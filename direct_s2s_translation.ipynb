{
  "nbformat": 4,
  "nbformat_minor": 0,
  "metadata": {
    "colab": {
      "provenance": [],
      "authorship_tag": "ABX9TyMDMOGlyHbDt7tAkIDUD2Zb",
      "include_colab_link": true
    },
    "kernelspec": {
      "name": "python3",
      "display_name": "Python 3"
    },
    "language_info": {
      "name": "python"
    }
  },
  "cells": [
    {
      "cell_type": "markdown",
      "metadata": {
        "id": "view-in-github",
        "colab_type": "text"
      },
      "source": [
        "<a href=\"https://colab.research.google.com/github/wendemsky/direct_s2s_translation/blob/main/direct_s2s_translation.ipynb\" target=\"_parent\"><img src=\"https://colab.research.google.com/assets/colab-badge.svg\" alt=\"Open In Colab\"/></a>"
      ]
    },
    {
      "cell_type": "code",
      "source": [
        "!pip install gTTS\n"
      ],
      "metadata": {
        "colab": {
          "base_uri": "https://localhost:8080/"
        },
        "id": "mB5VV6S1m1bG",
        "outputId": "1b22f029-619f-490b-822e-1ca458565cd5"
      },
      "execution_count": null,
      "outputs": [
        {
          "output_type": "stream",
          "name": "stdout",
          "text": [
            "Collecting gTTS\n",
            "  Downloading gTTS-2.3.2-py3-none-any.whl (28 kB)\n",
            "Requirement already satisfied: requests<3,>=2.27 in /usr/local/lib/python3.10/dist-packages (from gTTS) (2.31.0)\n",
            "Requirement already satisfied: click<8.2,>=7.1 in /usr/local/lib/python3.10/dist-packages (from gTTS) (8.1.7)\n",
            "Requirement already satisfied: charset-normalizer<4,>=2 in /usr/local/lib/python3.10/dist-packages (from requests<3,>=2.27->gTTS) (3.2.0)\n",
            "Requirement already satisfied: idna<4,>=2.5 in /usr/local/lib/python3.10/dist-packages (from requests<3,>=2.27->gTTS) (3.4)\n",
            "Requirement already satisfied: urllib3<3,>=1.21.1 in /usr/local/lib/python3.10/dist-packages (from requests<3,>=2.27->gTTS) (2.0.4)\n",
            "Requirement already satisfied: certifi>=2017.4.17 in /usr/local/lib/python3.10/dist-packages (from requests<3,>=2.27->gTTS) (2023.7.22)\n",
            "Installing collected packages: gTTS\n",
            "Successfully installed gTTS-2.3.2\n"
          ]
        }
      ]
    },
    {
      "cell_type": "code",
      "source": [
        "# Import the required module for text\n",
        "# to speech conversion\n",
        "from gtts import gTTS\n",
        "\n",
        "# This module is imported so that we can\n",
        "# play the converted audio\n",
        "import os\n",
        "\n",
        "# Function to convert text to speech and save as mp3\n",
        "def text_to_speech(input_file, language, output_folder):\n",
        "    # Read the text from the input file\n",
        "    with open(input_file, 'r', encoding='utf-8') as file:\n",
        "        sentences = file.readlines()\n",
        "\n",
        "    # Create the output folder if it doesn't exist\n",
        "    if not os.path.exists(output_folder):\n",
        "        os.makedirs(output_folder)\n",
        "\n",
        "    # Convert each sentence to audio\n",
        "    for index, sentence in enumerate(sentences):\n",
        "        sentence = sentence.strip()\n",
        "        if sentence:\n",
        "            # Create a gTTS object\n",
        "            tts = gTTS(text=sentence, lang=language, slow=False)\n",
        "\n",
        "            # Save the audio file\n",
        "            audio_file = os.path.join(output_folder, f\"{index+1}.mp3\")\n",
        "            tts.save(audio_file)\n",
        "\n",
        "            print(f\"Converted and saved: {audio_file}\")\n",
        "\n",
        "# Language for English and Korean\n",
        "english_language = 'en'\n",
        "korean_language = 'ko'\n",
        "\n",
        "# Input and output folders\n",
        "english_input_file = 'english_text.txt'\n",
        "korean_input_file = 'korean_text.txt'\n",
        "english_output_folder = 'english_audio'\n",
        "korean_output_folder = 'korean_audio'\n",
        "\n",
        "# Convert English text to audio\n",
        "text_to_speech(english_input_file, english_language, english_output_folder)\n",
        "\n",
        "# Convert Korean text to audio\n",
        "text_to_speech(korean_input_file, korean_language, korean_output_folder)\n"
      ],
      "metadata": {
        "colab": {
          "base_uri": "https://localhost:8080/"
        },
        "id": "ZS5HsMDOm2xi",
        "outputId": "41534b0f-ad44-4f0b-c3da-587c0f2e7672"
      },
      "execution_count": null,
      "outputs": [
        {
          "output_type": "stream",
          "name": "stdout",
          "text": [
            "Converted and saved: english_audio/1.mp3\n",
            "Converted and saved: english_audio/2.mp3\n",
            "Converted and saved: english_audio/3.mp3\n",
            "Converted and saved: english_audio/4.mp3\n",
            "Converted and saved: english_audio/5.mp3\n",
            "Converted and saved: english_audio/6.mp3\n",
            "Converted and saved: english_audio/7.mp3\n",
            "Converted and saved: english_audio/8.mp3\n",
            "Converted and saved: english_audio/9.mp3\n",
            "Converted and saved: english_audio/10.mp3\n",
            "Converted and saved: english_audio/11.mp3\n",
            "Converted and saved: english_audio/12.mp3\n",
            "Converted and saved: english_audio/13.mp3\n",
            "Converted and saved: english_audio/14.mp3\n",
            "Converted and saved: english_audio/15.mp3\n",
            "Converted and saved: english_audio/16.mp3\n",
            "Converted and saved: english_audio/17.mp3\n",
            "Converted and saved: english_audio/18.mp3\n",
            "Converted and saved: english_audio/19.mp3\n",
            "Converted and saved: english_audio/20.mp3\n",
            "Converted and saved: english_audio/21.mp3\n",
            "Converted and saved: english_audio/22.mp3\n",
            "Converted and saved: english_audio/23.mp3\n",
            "Converted and saved: english_audio/24.mp3\n",
            "Converted and saved: english_audio/25.mp3\n",
            "Converted and saved: english_audio/26.mp3\n",
            "Converted and saved: english_audio/27.mp3\n",
            "Converted and saved: english_audio/28.mp3\n",
            "Converted and saved: english_audio/29.mp3\n",
            "Converted and saved: english_audio/30.mp3\n",
            "Converted and saved: english_audio/31.mp3\n",
            "Converted and saved: english_audio/32.mp3\n",
            "Converted and saved: english_audio/33.mp3\n",
            "Converted and saved: english_audio/34.mp3\n",
            "Converted and saved: english_audio/35.mp3\n",
            "Converted and saved: english_audio/36.mp3\n",
            "Converted and saved: english_audio/37.mp3\n",
            "Converted and saved: english_audio/38.mp3\n",
            "Converted and saved: english_audio/39.mp3\n",
            "Converted and saved: english_audio/40.mp3\n",
            "Converted and saved: english_audio/41.mp3\n",
            "Converted and saved: english_audio/42.mp3\n",
            "Converted and saved: english_audio/43.mp3\n",
            "Converted and saved: english_audio/44.mp3\n",
            "Converted and saved: english_audio/45.mp3\n",
            "Converted and saved: english_audio/46.mp3\n",
            "Converted and saved: english_audio/47.mp3\n",
            "Converted and saved: english_audio/48.mp3\n",
            "Converted and saved: english_audio/49.mp3\n",
            "Converted and saved: english_audio/50.mp3\n",
            "Converted and saved: korean_audio/1.mp3\n",
            "Converted and saved: korean_audio/2.mp3\n",
            "Converted and saved: korean_audio/3.mp3\n",
            "Converted and saved: korean_audio/4.mp3\n",
            "Converted and saved: korean_audio/5.mp3\n",
            "Converted and saved: korean_audio/6.mp3\n",
            "Converted and saved: korean_audio/7.mp3\n",
            "Converted and saved: korean_audio/8.mp3\n",
            "Converted and saved: korean_audio/9.mp3\n",
            "Converted and saved: korean_audio/10.mp3\n",
            "Converted and saved: korean_audio/11.mp3\n",
            "Converted and saved: korean_audio/12.mp3\n",
            "Converted and saved: korean_audio/13.mp3\n",
            "Converted and saved: korean_audio/14.mp3\n",
            "Converted and saved: korean_audio/15.mp3\n",
            "Converted and saved: korean_audio/16.mp3\n",
            "Converted and saved: korean_audio/17.mp3\n",
            "Converted and saved: korean_audio/18.mp3\n",
            "Converted and saved: korean_audio/19.mp3\n",
            "Converted and saved: korean_audio/20.mp3\n",
            "Converted and saved: korean_audio/21.mp3\n",
            "Converted and saved: korean_audio/22.mp3\n",
            "Converted and saved: korean_audio/23.mp3\n",
            "Converted and saved: korean_audio/24.mp3\n",
            "Converted and saved: korean_audio/25.mp3\n",
            "Converted and saved: korean_audio/26.mp3\n",
            "Converted and saved: korean_audio/27.mp3\n",
            "Converted and saved: korean_audio/28.mp3\n",
            "Converted and saved: korean_audio/29.mp3\n",
            "Converted and saved: korean_audio/30.mp3\n",
            "Converted and saved: korean_audio/31.mp3\n",
            "Converted and saved: korean_audio/32.mp3\n",
            "Converted and saved: korean_audio/33.mp3\n",
            "Converted and saved: korean_audio/34.mp3\n",
            "Converted and saved: korean_audio/35.mp3\n",
            "Converted and saved: korean_audio/36.mp3\n",
            "Converted and saved: korean_audio/37.mp3\n",
            "Converted and saved: korean_audio/38.mp3\n",
            "Converted and saved: korean_audio/39.mp3\n",
            "Converted and saved: korean_audio/40.mp3\n",
            "Converted and saved: korean_audio/41.mp3\n",
            "Converted and saved: korean_audio/42.mp3\n",
            "Converted and saved: korean_audio/43.mp3\n",
            "Converted and saved: korean_audio/44.mp3\n",
            "Converted and saved: korean_audio/45.mp3\n",
            "Converted and saved: korean_audio/46.mp3\n",
            "Converted and saved: korean_audio/47.mp3\n",
            "Converted and saved: korean_audio/48.mp3\n",
            "Converted and saved: korean_audio/49.mp3\n",
            "Converted and saved: korean_audio/50.mp3\n"
          ]
        }
      ]
    },
    {
      "cell_type": "markdown",
      "source": [
        "Change the file names on both the folders from 1.mp3 to 50.mp3"
      ],
      "metadata": {
        "id": "VW_cu5Z9zCwP"
      }
    },
    {
      "cell_type": "code",
      "source": [
        "# import os\n",
        "\n",
        "\n",
        "# # def rename_mp3_files(folder_path):\n",
        "# #     files = os.listdir(folder_path)\n",
        "# #     mp3_files = [f for f in files if f.lower().endswith('.mp3')]\n",
        "\n",
        "# #     print(f'Folder path: {folder_path}')\n",
        "# #     print(f'All files in the folder: {files}')\n",
        "# #     print(f'MP3 files found: {len(mp3_files)}')\n",
        "\n",
        "# #     for index, mp3_file in enumerate(mp3_files, start=1):\n",
        "# #         old_path = os.path.join(folder_path, mp3_file)\n",
        "# #         new_path = os.path.join(folder_path, f'{index}.mp3')\n",
        "# #         os.rename(old_path, new_path)\n",
        "# #         print(f'Renamed {old_path} to {new_path}')\n",
        "\n",
        "\n",
        "# # if __name__ == \"__main__\":\n",
        "# #     folder_path_en = r'/content/english_audio'  # Change this to your mp3 file folder\n",
        "# #     folder_path_kr = r'/content/korean_audio'\n",
        "# #     rename_mp3_files(folder_path_en)\n",
        "# #     rename_mp3_files(folder_path_kr)\n",
        "# #     print(\"MP3 files renamed successfully!\")\n"
      ],
      "metadata": {
        "id": "CekqnOmxygW8"
      },
      "execution_count": null,
      "outputs": []
    },
    {
      "cell_type": "code",
      "source": [
        "import os\n",
        "import csv\n",
        "\n",
        "# Paths to audio folders\n",
        "english_audio_folder = 'english_audio'\n",
        "korean_audio_folder = 'korean_audio'\n",
        "english_text_file = 'english_text.txt'\n",
        "korean_text_file = 'korean_text.txt'\n",
        "\n",
        "# Read the English and Korean text files\n",
        "with open(english_text_file, 'r', encoding='utf-8') as eng_file, \\\n",
        "     open(korean_text_file, 'r', encoding='utf-8') as kor_file:\n",
        "    english_translations = eng_file.readlines()\n",
        "    korean_translations = kor_file.readlines()\n",
        "\n",
        "# Ensure the audio and text lists match\n",
        "if len(english_translations) != len(korean_translations):\n",
        "    raise ValueError(\"Number of audio files and translations don't match!\")\n",
        "\n",
        "# Create a list to hold dataset entries\n",
        "dataset = []\n",
        "\n",
        "# Walk through the English audio folder\n",
        "for root, _, files in os.walk(english_audio_folder):\n",
        "    for file in files:\n",
        "        if file.endswith('.mp3'):\n",
        "            # Create the file paths for English and Korean audio\n",
        "            english_audio_path = os.path.join(root, file)\n",
        "            korean_audio_path = os.path.join(korean_audio_folder, file)\n",
        "\n",
        "            # Get the corresponding translations\n",
        "            index = int(file.split('.')[0]) - 1\n",
        "            english_translation = english_translations[index].strip()\n",
        "            korean_translation = korean_translations[index].strip()\n",
        "\n",
        "            dataset.append([english_audio_path, english_translation, korean_audio_path, korean_translation])\n",
        "\n",
        "# Save the dataset to a CSV file\n",
        "with open('speech_to_speech_dataset.csv', 'w', newline='', encoding='utf-8') as csvfile:\n",
        "    csv_writer = csv.writer(csvfile)\n",
        "    csv_writer.writerow(['audio_path_english', 'translation_english', 'audio_path_korean', 'translation_korean'])\n",
        "    csv_writer.writerows(dataset)\n"
      ],
      "metadata": {
        "id": "ozeAp4FM1saq"
      },
      "execution_count": null,
      "outputs": []
    },
    {
      "cell_type": "markdown",
      "source": [
        "Data Cleaning - Data cleaning procedures were not necessary for this project as the dataset comprises only 50 audio files. Each audio file and its corresponding text translation were manually reviewed to ensure data quality and consistency."
      ],
      "metadata": {
        "id": "3O8yq9982x8E"
      }
    },
    {
      "cell_type": "markdown",
      "source": [
        "Data Loading\n",
        "\n",
        "Now, We Load the dataset from the CSV file."
      ],
      "metadata": {
        "id": "nwWJ2sOq-zDu"
      }
    },
    {
      "cell_type": "code",
      "source": [
        "import pandas as pd\n",
        "from sklearn.model_selection import train_test_split\n",
        "\n",
        "# Define the path to your CSV file containing the dataset\n",
        "csv_file_path = 'speech_to_speech_dataset.csv'  # Replace with the actual file path\n",
        "\n",
        "# Load the dataset into a Pandas DataFrame\n",
        "dataset = pd.read_csv(csv_file_path)\n",
        "\n",
        "# Split the dataset into training, validation, and testing sets\n",
        "# Using train_test_split from scikit-learn for proper random splitting\n",
        "train_ratio = 0.8\n",
        "val_ratio = 0.1\n",
        "test_ratio = 0.1\n",
        "\n",
        "train_dataset, test_val_dataset = train_test_split(dataset, test_size=(1 - train_ratio))\n",
        "val_dataset, test_dataset = train_test_split(test_val_dataset, test_size=test_ratio / (test_ratio + val_ratio))\n",
        "\n",
        "# Verify the sizes of the splits\n",
        "print(f\"Number of training samples: {len(train_dataset)}\")\n",
        "print(f\"Number of validation samples: {len(val_dataset)}\")\n",
        "print(f\"Number of testing samples: {len(test_dataset)}\")\n"
      ],
      "metadata": {
        "colab": {
          "base_uri": "https://localhost:8080/"
        },
        "id": "_GQHwI4z3fE6",
        "outputId": "7886f720-b013-4cd6-caf2-680f6592301e"
      },
      "execution_count": null,
      "outputs": [
        {
          "output_type": "stream",
          "name": "stdout",
          "text": [
            "Number of training samples: 40\n",
            "Number of validation samples: 5\n",
            "Number of testing samples: 5\n"
          ]
        }
      ]
    },
    {
      "cell_type": "code",
      "source": [
        "!pip install --upgrade tensorflow"
      ],
      "metadata": {
        "id": "3xwfc4HdEtJm",
        "colab": {
          "base_uri": "https://localhost:8080/"
        },
        "outputId": "d2cd3d64-ed4b-47fa-84e1-186440334827"
      },
      "execution_count": null,
      "outputs": [
        {
          "output_type": "stream",
          "name": "stdout",
          "text": [
            "Requirement already satisfied: tensorflow in /usr/local/lib/python3.10/dist-packages (2.13.0)\n",
            "Requirement already satisfied: absl-py>=1.0.0 in /usr/local/lib/python3.10/dist-packages (from tensorflow) (1.4.0)\n",
            "Requirement already satisfied: astunparse>=1.6.0 in /usr/local/lib/python3.10/dist-packages (from tensorflow) (1.6.3)\n",
            "Requirement already satisfied: flatbuffers>=23.1.21 in /usr/local/lib/python3.10/dist-packages (from tensorflow) (23.5.26)\n",
            "Requirement already satisfied: gast<=0.4.0,>=0.2.1 in /usr/local/lib/python3.10/dist-packages (from tensorflow) (0.4.0)\n",
            "Requirement already satisfied: google-pasta>=0.1.1 in /usr/local/lib/python3.10/dist-packages (from tensorflow) (0.2.0)\n",
            "Requirement already satisfied: grpcio<2.0,>=1.24.3 in /usr/local/lib/python3.10/dist-packages (from tensorflow) (1.57.0)\n",
            "Requirement already satisfied: h5py>=2.9.0 in /usr/local/lib/python3.10/dist-packages (from tensorflow) (3.9.0)\n",
            "Requirement already satisfied: keras<2.14,>=2.13.1 in /usr/local/lib/python3.10/dist-packages (from tensorflow) (2.13.1)\n",
            "Requirement already satisfied: libclang>=13.0.0 in /usr/local/lib/python3.10/dist-packages (from tensorflow) (16.0.6)\n",
            "Requirement already satisfied: numpy<=1.24.3,>=1.22 in /usr/local/lib/python3.10/dist-packages (from tensorflow) (1.23.5)\n",
            "Requirement already satisfied: opt-einsum>=2.3.2 in /usr/local/lib/python3.10/dist-packages (from tensorflow) (3.3.0)\n",
            "Requirement already satisfied: packaging in /usr/local/lib/python3.10/dist-packages (from tensorflow) (23.1)\n",
            "Requirement already satisfied: protobuf!=4.21.0,!=4.21.1,!=4.21.2,!=4.21.3,!=4.21.4,!=4.21.5,<5.0.0dev,>=3.20.3 in /usr/local/lib/python3.10/dist-packages (from tensorflow) (3.20.3)\n",
            "Requirement already satisfied: setuptools in /usr/local/lib/python3.10/dist-packages (from tensorflow) (67.7.2)\n",
            "Requirement already satisfied: six>=1.12.0 in /usr/local/lib/python3.10/dist-packages (from tensorflow) (1.16.0)\n",
            "Requirement already satisfied: tensorboard<2.14,>=2.13 in /usr/local/lib/python3.10/dist-packages (from tensorflow) (2.13.0)\n",
            "Requirement already satisfied: tensorflow-estimator<2.14,>=2.13.0 in /usr/local/lib/python3.10/dist-packages (from tensorflow) (2.13.0)\n",
            "Requirement already satisfied: termcolor>=1.1.0 in /usr/local/lib/python3.10/dist-packages (from tensorflow) (2.3.0)\n",
            "Requirement already satisfied: typing-extensions<4.6.0,>=3.6.6 in /usr/local/lib/python3.10/dist-packages (from tensorflow) (4.5.0)\n",
            "Requirement already satisfied: wrapt>=1.11.0 in /usr/local/lib/python3.10/dist-packages (from tensorflow) (1.15.0)\n",
            "Requirement already satisfied: tensorflow-io-gcs-filesystem>=0.23.1 in /usr/local/lib/python3.10/dist-packages (from tensorflow) (0.33.0)\n",
            "Requirement already satisfied: wheel<1.0,>=0.23.0 in /usr/local/lib/python3.10/dist-packages (from astunparse>=1.6.0->tensorflow) (0.41.2)\n",
            "Requirement already satisfied: google-auth<3,>=1.6.3 in /usr/local/lib/python3.10/dist-packages (from tensorboard<2.14,>=2.13->tensorflow) (2.17.3)\n",
            "Requirement already satisfied: google-auth-oauthlib<1.1,>=0.5 in /usr/local/lib/python3.10/dist-packages (from tensorboard<2.14,>=2.13->tensorflow) (1.0.0)\n",
            "Requirement already satisfied: markdown>=2.6.8 in /usr/local/lib/python3.10/dist-packages (from tensorboard<2.14,>=2.13->tensorflow) (3.4.4)\n",
            "Requirement already satisfied: requests<3,>=2.21.0 in /usr/local/lib/python3.10/dist-packages (from tensorboard<2.14,>=2.13->tensorflow) (2.31.0)\n",
            "Requirement already satisfied: tensorboard-data-server<0.8.0,>=0.7.0 in /usr/local/lib/python3.10/dist-packages (from tensorboard<2.14,>=2.13->tensorflow) (0.7.1)\n",
            "Requirement already satisfied: werkzeug>=1.0.1 in /usr/local/lib/python3.10/dist-packages (from tensorboard<2.14,>=2.13->tensorflow) (2.3.7)\n",
            "Requirement already satisfied: cachetools<6.0,>=2.0.0 in /usr/local/lib/python3.10/dist-packages (from google-auth<3,>=1.6.3->tensorboard<2.14,>=2.13->tensorflow) (5.3.1)\n",
            "Requirement already satisfied: pyasn1-modules>=0.2.1 in /usr/local/lib/python3.10/dist-packages (from google-auth<3,>=1.6.3->tensorboard<2.14,>=2.13->tensorflow) (0.3.0)\n",
            "Requirement already satisfied: rsa<5,>=3.1.4 in /usr/local/lib/python3.10/dist-packages (from google-auth<3,>=1.6.3->tensorboard<2.14,>=2.13->tensorflow) (4.9)\n",
            "Requirement already satisfied: requests-oauthlib>=0.7.0 in /usr/local/lib/python3.10/dist-packages (from google-auth-oauthlib<1.1,>=0.5->tensorboard<2.14,>=2.13->tensorflow) (1.3.1)\n",
            "Requirement already satisfied: charset-normalizer<4,>=2 in /usr/local/lib/python3.10/dist-packages (from requests<3,>=2.21.0->tensorboard<2.14,>=2.13->tensorflow) (3.2.0)\n",
            "Requirement already satisfied: idna<4,>=2.5 in /usr/local/lib/python3.10/dist-packages (from requests<3,>=2.21.0->tensorboard<2.14,>=2.13->tensorflow) (3.4)\n",
            "Requirement already satisfied: urllib3<3,>=1.21.1 in /usr/local/lib/python3.10/dist-packages (from requests<3,>=2.21.0->tensorboard<2.14,>=2.13->tensorflow) (2.0.4)\n",
            "Requirement already satisfied: certifi>=2017.4.17 in /usr/local/lib/python3.10/dist-packages (from requests<3,>=2.21.0->tensorboard<2.14,>=2.13->tensorflow) (2023.7.22)\n",
            "Requirement already satisfied: MarkupSafe>=2.1.1 in /usr/local/lib/python3.10/dist-packages (from werkzeug>=1.0.1->tensorboard<2.14,>=2.13->tensorflow) (2.1.3)\n",
            "Requirement already satisfied: pyasn1<0.6.0,>=0.4.6 in /usr/local/lib/python3.10/dist-packages (from pyasn1-modules>=0.2.1->google-auth<3,>=1.6.3->tensorboard<2.14,>=2.13->tensorflow) (0.5.0)\n",
            "Requirement already satisfied: oauthlib>=3.0.0 in /usr/local/lib/python3.10/dist-packages (from requests-oauthlib>=0.7.0->google-auth-oauthlib<1.1,>=0.5->tensorboard<2.14,>=2.13->tensorflow) (3.2.2)\n"
          ]
        }
      ]
    },
    {
      "cell_type": "markdown",
      "source": [
        "Data Preprocessing\n",
        "\n",
        "Now that we have loaded the data successfully, We will now preprocess the data.\n"
      ],
      "metadata": {
        "id": "VxYUqBqqBIhd"
      }
    },
    {
      "cell_type": "code",
      "source": [
        "# import os\n",
        "# import numpy as np\n",
        "# import librosa\n",
        "# from tensorflow.keras.preprocessing.text import Tokenizer\n",
        "# from tensorflow.keras.preprocessing.sequence import pad_sequences\n",
        "# import pandas as pd\n",
        "# import matplotlib.pyplot as plt\n",
        "# from sklearn.model_selection import train_test_split\n",
        "\n",
        "# # Paths to the audio folders and the CSV dataset file\n",
        "# english_audio_folder = 'english_audio'\n",
        "# korean_audio_folder = 'korean_audio'\n",
        "# dataset_file = 'speech_to_speech_dataset.csv'\n",
        "\n",
        "# # Load the dataset from the CSV file\n",
        "# dataset = pd.read_csv(dataset_file)\n",
        "\n",
        "# # Define the maximum sequence length for audio and text (adjust as needed)\n",
        "# max_audio_length = 100  # You can change this value based on your model's requirements\n",
        "# max_seq_length = 50  # Define your desired sequence length for text data\n",
        "\n",
        "# # Initialize lists to store audio features and text data\n",
        "# X_audio = []\n",
        "# X_text = []\n",
        "# Y_text = []\n",
        "\n",
        "# # Initialize tokenizers for text data\n",
        "# english_tokenizer = Tokenizer()\n",
        "# korean_tokenizer = Tokenizer()\n",
        "\n",
        "# # Extract MFCC features from audio and tokenize text\n",
        "# sample_rate = 22050  # Define the sample rate (adjust as needed)\n",
        "\n",
        "# # Function to plot MFCC features\n",
        "# def plot_mfcc(mfcc):\n",
        "#     plt.figure(figsize=(10, 4))\n",
        "#     plt.imshow(mfcc, cmap='viridis', origin='lower', aspect='auto')\n",
        "#     plt.title('MFCC Features')\n",
        "#     plt.xlabel('Time')\n",
        "#     plt.ylabel('MFCC Coefficients')\n",
        "#     plt.colorbar(format='%+2.0f dB')\n",
        "#     plt.show()\n",
        "\n",
        "# # Function to plot MFCC coefficients\n",
        "# def plot_mfcc_coefficients(mfcc):\n",
        "#     plt.figure(figsize=(8, 4))\n",
        "#     plt.plot(mfcc)\n",
        "#     plt.title('MFCC Coefficients')\n",
        "#     plt.xlabel('Frame')\n",
        "#     plt.ylabel('Amplitude')\n",
        "#     plt.grid()\n",
        "#     plt.show()\n",
        "\n",
        "# for index, row in dataset.iterrows():\n",
        "#     # Load and preprocess audio\n",
        "#     audio_path = os.path.join(english_audio_folder, os.path.basename(row['audio_path_english']))\n",
        "#     signal, _ = librosa.load(audio_path, sr=sample_rate)\n",
        "#     mfccs = librosa.feature.mfcc(y=signal, sr=sample_rate, n_mfcc=13, hop_length=512, n_fft=2048)\n",
        "#     mfccs = pad_sequences([mfccs.T], maxlen=max_audio_length, padding='post')[0]  # Padding/truncating\n",
        "\n",
        "#     # Plot an example MFCC\n",
        "#     if index == 0:\n",
        "#         plot_mfcc(mfccs)\n",
        "#         # Print an example of MFCC coefficients for the first sample\n",
        "#         print(\"Example MFCC coefficients for the first sample:\")\n",
        "#         print(mfccs)\n",
        "\n",
        "#     # Tokenize and encode English and Korean text\n",
        "#     english_text = row['translation_english']\n",
        "#     korean_text = row['translation_korean']\n",
        "#     english_seq = english_tokenizer.texts_to_sequences([english_text])[0]\n",
        "#     korean_seq = korean_tokenizer.texts_to_sequences([korean_text])[0]\n",
        "\n",
        "#     # Append to lists\n",
        "#     X_audio.append(mfccs)\n",
        "#     X_text.append(english_seq)  # Using English as input text\n",
        "#     Y_text.append(korean_seq)  # Using Korean as target text\n",
        "\n",
        "# # Convert lists to numpy arrays\n",
        "# X_audio = np.array(X_audio)\n",
        "# X_text = pad_sequences(X_text, maxlen=max_seq_length, padding='post')\n",
        "# Y_text = pad_sequences(Y_text, maxlen=max_seq_length, padding='post')\n",
        "\n",
        "# # Define the path for the new CSV file containing preprocessed data\n",
        "# preprocessed_csv_file = 'preprocessed_speech_to_speech_dataset.csv'\n",
        "\n",
        "# # Save the preprocessed data to the new CSV file\n",
        "# preprocessed_dataset = pd.DataFrame({'audio_path_english': dataset['audio_path_english'],\n",
        "#                                      'translation_english': dataset['translation_english'],\n",
        "#                                      'audio_path_korean': dataset['audio_path_korean'],\n",
        "#                                      'translation_korean': dataset['translation_korean'],\n",
        "#                                      'mfcc_features': list(X_audio),\n",
        "#                                      'english_sequence': X_text.tolist(),  # Convert to list\n",
        "#                                      'korean_sequence': Y_text.tolist()})  # Convert to list\n",
        "\n",
        "# preprocessed_dataset.to_csv(preprocessed_csv_file, index=False, encoding='utf-8')\n",
        "\n",
        "# print(\"Preprocessed dataset saved to:\", preprocessed_csv_file)\n"
      ],
      "metadata": {
        "colab": {
          "base_uri": "https://localhost:8080/",
          "height": 566
        },
        "id": "a0L2B-2KBU_c",
        "outputId": "b7914882-4f7f-4067-ffe4-02bdabd749b1"
      },
      "execution_count": null,
      "outputs": [
        {
          "output_type": "display_data",
          "data": {
            "text/plain": [
              "<Figure size 1000x400 with 2 Axes>"
            ],
            "image/png": "[encoded data removed]"
          },
          "metadata": {}
        },
        {
          "output_type": "stream",
          "name": "stdout",
          "text": [
            "Example MFCC coefficients for the first sample:\n",
            "[[-591    0    0 ...    0    0    0]\n",
            " [-480   75  -13 ...   -4    2    2]\n",
            " [-270  138  -20 ...  -14    0    0]\n",
            " ...\n",
            " [-592    0    0 ...    0    0    0]\n",
            " [-592    0    0 ...    0    0    0]\n",
            " [-592    0    0 ...    0    0    0]]\n",
            "Preprocessed dataset saved to: preprocessed_speech_to_speech_dataset.csv\n"
          ]
        }
      ]
    },
    {
      "cell_type": "code",
      "source": [
        "!pip install tensorflow\n"
      ],
      "metadata": {
        "colab": {
          "base_uri": "https://localhost:8080/"
        },
        "id": "XKz2bXxuzXms",
        "outputId": "47d69eb7-8b24-444f-ad1f-3326f4f2cdfb"
      },
      "execution_count": null,
      "outputs": [
        {
          "output_type": "stream",
          "name": "stdout",
          "text": [
            "Requirement already satisfied: tensorflow in /usr/local/lib/python3.10/dist-packages (2.13.0)\n",
            "Requirement already satisfied: absl-py>=1.0.0 in /usr/local/lib/python3.10/dist-packages (from tensorflow) (1.4.0)\n",
            "Requirement already satisfied: astunparse>=1.6.0 in /usr/local/lib/python3.10/dist-packages (from tensorflow) (1.6.3)\n",
            "Requirement already satisfied: flatbuffers>=23.1.21 in /usr/local/lib/python3.10/dist-packages (from tensorflow) (23.5.26)\n",
            "Requirement already satisfied: gast<=0.4.0,>=0.2.1 in /usr/local/lib/python3.10/dist-packages (from tensorflow) (0.4.0)\n",
            "Requirement already satisfied: google-pasta>=0.1.1 in /usr/local/lib/python3.10/dist-packages (from tensorflow) (0.2.0)\n",
            "Requirement already satisfied: grpcio<2.0,>=1.24.3 in /usr/local/lib/python3.10/dist-packages (from tensorflow) (1.57.0)\n",
            "Requirement already satisfied: h5py>=2.9.0 in /usr/local/lib/python3.10/dist-packages (from tensorflow) (3.9.0)\n",
            "Requirement already satisfied: keras<2.14,>=2.13.1 in /usr/local/lib/python3.10/dist-packages (from tensorflow) (2.13.1)\n",
            "Requirement already satisfied: libclang>=13.0.0 in /usr/local/lib/python3.10/dist-packages (from tensorflow) (16.0.6)\n",
            "Requirement already satisfied: numpy<=1.24.3,>=1.22 in /usr/local/lib/python3.10/dist-packages (from tensorflow) (1.23.5)\n",
            "Requirement already satisfied: opt-einsum>=2.3.2 in /usr/local/lib/python3.10/dist-packages (from tensorflow) (3.3.0)\n",
            "Requirement already satisfied: packaging in /usr/local/lib/python3.10/dist-packages (from tensorflow) (23.1)\n",
            "Requirement already satisfied: protobuf!=4.21.0,!=4.21.1,!=4.21.2,!=4.21.3,!=4.21.4,!=4.21.5,<5.0.0dev,>=3.20.3 in /usr/local/lib/python3.10/dist-packages (from tensorflow) (3.20.3)\n",
            "Requirement already satisfied: setuptools in /usr/local/lib/python3.10/dist-packages (from tensorflow) (67.7.2)\n",
            "Requirement already satisfied: six>=1.12.0 in /usr/local/lib/python3.10/dist-packages (from tensorflow) (1.16.0)\n",
            "Requirement already satisfied: tensorboard<2.14,>=2.13 in /usr/local/lib/python3.10/dist-packages (from tensorflow) (2.13.0)\n",
            "Requirement already satisfied: tensorflow-estimator<2.14,>=2.13.0 in /usr/local/lib/python3.10/dist-packages (from tensorflow) (2.13.0)\n",
            "Requirement already satisfied: termcolor>=1.1.0 in /usr/local/lib/python3.10/dist-packages (from tensorflow) (2.3.0)\n",
            "Requirement already satisfied: typing-extensions<4.6.0,>=3.6.6 in /usr/local/lib/python3.10/dist-packages (from tensorflow) (4.5.0)\n",
            "Requirement already satisfied: wrapt>=1.11.0 in /usr/local/lib/python3.10/dist-packages (from tensorflow) (1.15.0)\n",
            "Requirement already satisfied: tensorflow-io-gcs-filesystem>=0.23.1 in /usr/local/lib/python3.10/dist-packages (from tensorflow) (0.33.0)\n",
            "Requirement already satisfied: wheel<1.0,>=0.23.0 in /usr/local/lib/python3.10/dist-packages (from astunparse>=1.6.0->tensorflow) (0.41.2)\n",
            "Requirement already satisfied: google-auth<3,>=1.6.3 in /usr/local/lib/python3.10/dist-packages (from tensorboard<2.14,>=2.13->tensorflow) (2.17.3)\n",
            "Requirement already satisfied: google-auth-oauthlib<1.1,>=0.5 in /usr/local/lib/python3.10/dist-packages (from tensorboard<2.14,>=2.13->tensorflow) (1.0.0)\n",
            "Requirement already satisfied: markdown>=2.6.8 in /usr/local/lib/python3.10/dist-packages (from tensorboard<2.14,>=2.13->tensorflow) (3.4.4)\n",
            "Requirement already satisfied: requests<3,>=2.21.0 in /usr/local/lib/python3.10/dist-packages (from tensorboard<2.14,>=2.13->tensorflow) (2.31.0)\n",
            "Requirement already satisfied: tensorboard-data-server<0.8.0,>=0.7.0 in /usr/local/lib/python3.10/dist-packages (from tensorboard<2.14,>=2.13->tensorflow) (0.7.1)\n",
            "Requirement already satisfied: werkzeug>=1.0.1 in /usr/local/lib/python3.10/dist-packages (from tensorboard<2.14,>=2.13->tensorflow) (2.3.7)\n",
            "Requirement already satisfied: cachetools<6.0,>=2.0.0 in /usr/local/lib/python3.10/dist-packages (from google-auth<3,>=1.6.3->tensorboard<2.14,>=2.13->tensorflow) (5.3.1)\n",
            "Requirement already satisfied: pyasn1-modules>=0.2.1 in /usr/local/lib/python3.10/dist-packages (from google-auth<3,>=1.6.3->tensorboard<2.14,>=2.13->tensorflow) (0.3.0)\n",
            "Requirement already satisfied: rsa<5,>=3.1.4 in /usr/local/lib/python3.10/dist-packages (from google-auth<3,>=1.6.3->tensorboard<2.14,>=2.13->tensorflow) (4.9)\n",
            "Requirement already satisfied: requests-oauthlib>=0.7.0 in /usr/local/lib/python3.10/dist-packages (from google-auth-oauthlib<1.1,>=0.5->tensorboard<2.14,>=2.13->tensorflow) (1.3.1)\n",
            "Requirement already satisfied: charset-normalizer<4,>=2 in /usr/local/lib/python3.10/dist-packages (from requests<3,>=2.21.0->tensorboard<2.14,>=2.13->tensorflow) (3.2.0)\n",
            "Requirement already satisfied: idna<4,>=2.5 in /usr/local/lib/python3.10/dist-packages (from requests<3,>=2.21.0->tensorboard<2.14,>=2.13->tensorflow) (3.4)\n",
            "Requirement already satisfied: urllib3<3,>=1.21.1 in /usr/local/lib/python3.10/dist-packages (from requests<3,>=2.21.0->tensorboard<2.14,>=2.13->tensorflow) (2.0.4)\n",
            "Requirement already satisfied: certifi>=2017.4.17 in /usr/local/lib/python3.10/dist-packages (from requests<3,>=2.21.0->tensorboard<2.14,>=2.13->tensorflow) (2023.7.22)\n",
            "Requirement already satisfied: MarkupSafe>=2.1.1 in /usr/local/lib/python3.10/dist-packages (from werkzeug>=1.0.1->tensorboard<2.14,>=2.13->tensorflow) (2.1.3)\n",
            "Requirement already satisfied: pyasn1<0.6.0,>=0.4.6 in /usr/local/lib/python3.10/dist-packages (from pyasn1-modules>=0.2.1->google-auth<3,>=1.6.3->tensorboard<2.14,>=2.13->tensorflow) (0.5.0)\n",
            "Requirement already satisfied: oauthlib>=3.0.0 in /usr/local/lib/python3.10/dist-packages (from requests-oauthlib>=0.7.0->google-auth-oauthlib<1.1,>=0.5->tensorboard<2.14,>=2.13->tensorflow) (3.2.2)\n"
          ]
        }
      ]
    },
    {
      "cell_type": "code",
      "source": [
        "# import os\n",
        "# import numpy as np\n",
        "# import librosa\n",
        "# from tensorflow.keras.preprocessing.text import Tokenizer\n",
        "# from tensorflow.keras.preprocessing.sequence import pad_sequences\n",
        "# import pandas as pd\n",
        "# import matplotlib.pyplot as plt\n",
        "# from sklearn.model_selection import train_test_split\n",
        "\n",
        "# # Paths to the audio folders and the CSV dataset file\n",
        "# english_audio_folder = 'english_audio'\n",
        "# korean_audio_folder = 'korean_audio'\n",
        "# dataset_file = 'speech_to_speech_dataset.csv'\n",
        "\n",
        "# # Load the dataset from the CSV file\n",
        "# dataset = pd.read_csv(dataset_file)\n",
        "\n",
        "# # Define the maximum sequence length for audio and text (adjust as needed)\n",
        "# max_audio_length = 100  # You can change this value based on your model's requirements\n",
        "# max_seq_length = 50  # Define your desired sequence length for text data\n",
        "\n",
        "# # Initialize lists to store audio features and text data\n",
        "# X_audio = []\n",
        "# X_text = []\n",
        "# Y_text = []\n",
        "\n",
        "# # Initialize tokenizers for text data\n",
        "# english_tokenizer = Tokenizer()\n",
        "# korean_tokenizer = Tokenizer()\n",
        "\n",
        "# # Extract MFCC features from audio and tokenize text\n",
        "# sample_rate = 22050  # Define the sample rate (adjust as needed)\n",
        "\n",
        "# # Function to plot MFCC features\n",
        "# def plot_mfcc(mfcc):\n",
        "#     plt.figure(figsize=(10, 4))\n",
        "#     plt.imshow(mfcc, cmap='viridis', origin='lower', aspect='auto')\n",
        "#     plt.title('MFCC Features')\n",
        "#     plt.xlabel('Time')\n",
        "#     plt.ylabel('MFCC Coefficients')\n",
        "#     plt.colorbar(format='%+2.0f dB')\n",
        "#     plt.show()\n",
        "\n",
        "# # Function to plot MFCC coefficients\n",
        "# def plot_mfcc_coefficients(mfcc):\n",
        "#     plt.figure(figsize=(8, 4))\n",
        "#     plt.plot(mfcc)\n",
        "#     plt.title('MFCC Coefficients')\n",
        "#     plt.xlabel('Frame')\n",
        "#     plt.ylabel('Amplitude')\n",
        "#     plt.grid()\n",
        "#     plt.show()\n",
        "\n",
        "# # Split the dataset into training and validation sets\n",
        "# train_dataset, val_dataset = train_test_split(dataset, test_size=0.2, random_state=42)\n",
        "\n",
        "# # Preprocess each sample in the training dataset\n",
        "# for index, row in train_dataset.iterrows():\n",
        "#     # Load and preprocess audio\n",
        "#     audio_path = os.path.join(english_audio_folder, os.path.basename(row['audio_path_english']))\n",
        "#     signal, _ = librosa.load(audio_path, sr=sample_rate)\n",
        "#     mfccs = librosa.feature.mfcc(y=signal, sr=sample_rate, n_mfcc=13, hop_length=512, n_fft=2048)\n",
        "#     mfccs = pad_sequences([mfccs.T], maxlen=max_audio_length, padding='post')[0]  # Padding/truncating\n",
        "\n",
        "#     # Tokenize and encode English and Korean text\n",
        "#     english_text = row['translation_english']\n",
        "#     korean_text = row['translation_korean']\n",
        "#     english_seq = english_tokenizer.texts_to_sequences([english_text])[0]\n",
        "#     korean_seq = korean_tokenizer.texts_to_sequences([korean_text])[0]\n",
        "\n",
        "#     # Append to lists\n",
        "#     X_audio.append(mfccs)\n",
        "#     X_text.append(english_seq)  # Using English as input text\n",
        "#     Y_text.append(korean_seq)  # Using Korean as target text\n",
        "\n",
        "# # Convert lists to numpy arrays\n",
        "# X_audio = np.array(X_audio)\n",
        "# X_text = pad_sequences(X_text, maxlen=max_seq_length, padding='post')\n",
        "# Y_text = pad_sequences(Y_text, maxlen=max_seq_length, padding='post')\n",
        "\n",
        "# # Define the path for the new CSV file containing preprocessed data\n",
        "# preprocessed_csv_file = 'preprocessed_speech_to_speech_dataset.csv'\n",
        "\n",
        "# # Save the preprocessed data to the new CSV file\n",
        "# preprocessed_dataset = pd.DataFrame({'audio_path_english': train_dataset['audio_path_english'],\n",
        "#                                      'translation_english': train_dataset['translation_english'],\n",
        "#                                      'audio_path_korean': train_dataset['audio_path_korean'],\n",
        "#                                      'translation_korean': train_dataset['translation_korean'],\n",
        "#                                      'mfcc_features': list(X_audio),\n",
        "#                                      'english_sequence': X_text.tolist(),  # Convert to list\n",
        "#                                      'korean_sequence': Y_text.tolist()})  # Convert to list\n",
        "\n",
        "# preprocessed_dataset.to_csv(preprocessed_csv_file, index=False, encoding='utf-8')\n",
        "\n",
        "# print(\"Preprocessed dataset saved to:\", preprocessed_csv_file)\n"
      ],
      "metadata": {
        "colab": {
          "base_uri": "https://localhost:8080/"
        },
        "id": "QHB-6cqWylvq",
        "outputId": "d6a96223-049f-40b6-f465-c8376cfedb05"
      },
      "execution_count": null,
      "outputs": [
        {
          "output_type": "stream",
          "name": "stdout",
          "text": [
            "Preprocessed dataset saved to: preprocessed_speech_to_speech_dataset.csv\n"
          ]
        }
      ]
    },
    {
      "cell_type": "code",
      "source": [
        "import os\n",
        "import numpy as np\n",
        "import librosa\n",
        "from tensorflow.keras.preprocessing.text import Tokenizer\n",
        "from tensorflow.keras.preprocessing.sequence import pad_sequences\n",
        "import pandas as pd\n",
        "import matplotlib.pyplot as plt\n",
        "from sklearn.model_selection import train_test_split\n",
        "from tensorflow.keras.models import load_model  # Import the function to load the model\n",
        "\n",
        "# Paths to the audio folders and the CSV dataset file\n",
        "english_audio_folder = 'english_audio'\n",
        "korean_audio_folder = 'korean_audio'\n",
        "dataset_file = 'speech_to_speech_dataset.csv'\n",
        "\n",
        "# Load the dataset from the CSV file\n",
        "dataset = pd.read_csv(dataset_file)\n",
        "\n",
        "# Define the maximum sequence length for audio and text (adjust as needed)\n",
        "max_audio_length = 100\n",
        "max_seq_length = 50\n",
        "\n",
        "# Initialize lists to store audio features and text data\n",
        "X_audio = []\n",
        "X_text = []\n",
        "Y_text = []\n",
        "\n",
        "# Initialize tokenizers for text data\n",
        "english_tokenizer = Tokenizer()\n",
        "korean_tokenizer = Tokenizer()\n",
        "\n",
        "# Extract MFCC features from audio and tokenize text\n",
        "sample_rate = 22050\n",
        "\n",
        "# Function to plot MFCC features\n",
        "def plot_mfcc(mfcc):\n",
        "    plt.figure(figsize=(10, 4))\n",
        "    plt.imshow(mfcc, cmap='viridis', origin='lower', aspect='auto')\n",
        "    plt.title('MFCC Features')\n",
        "    plt.xlabel('Time')\n",
        "    plt.ylabel('MFCC Coefficients')\n",
        "    plt.colorbar(format='%+2.0f dB')\n",
        "    plt.show()\n",
        "\n",
        "# Function to plot MFCC coefficients\n",
        "def plot_mfcc_coefficients(mfcc):\n",
        "    plt.figure(figsize=(8, 4))\n",
        "    plt.plot(mfcc)\n",
        "    plt.title('MFCC Coefficients')\n",
        "    plt.xlabel('Frame')\n",
        "    plt.ylabel('Amplitude')\n",
        "    plt.grid()\n",
        "    plt.show()\n",
        "\n",
        "# Split the dataset into training and validation sets\n",
        "train_dataset, val_dataset = train_test_split(dataset, test_size=0.2, random_state=42)\n",
        "\n",
        "# Preprocess each sample in the validation dataset\n",
        "X_val_audio = []\n",
        "X_val_text = []\n",
        "Y_val_text = []\n",
        "\n",
        "for index, row in val_dataset.iterrows():\n",
        "    # Load and preprocess audio (similar to the training data preprocessing)\n",
        "    audio_path = os.path.join(english_audio_folder, os.path.basename(row['audio_path_english']))\n",
        "    signal, _ = librosa.load(audio_path, sr=sample_rate)\n",
        "    mfccs = librosa.feature.mfcc(y=signal, sr=sample_rate, n_mfcc=13, hop_length=512, n_fft=2048)\n",
        "    mfccs = pad_sequences([mfccs.T], maxlen=max_audio_length, padding='post')[0]\n",
        "\n",
        "    # Tokenize and encode English and Korean text (similar to the training data preprocessing)\n",
        "    english_text = row['translation_english']\n",
        "    korean_text = row['translation_korean']\n",
        "    english_seq = english_tokenizer.texts_to_sequences([english_text])[0]\n",
        "    korean_seq = korean_tokenizer.texts_to_sequences([korean_text])[0]\n",
        "\n",
        "    # Append to validation lists\n",
        "    X_val_audio.append(mfccs)\n",
        "    X_val_text.append(english_seq)\n",
        "    Y_val_text.append(korean_seq)\n",
        "\n",
        "# Convert validation lists to numpy arrays\n",
        "X_val_audio = np.array(X_val_audio)\n",
        "X_val_text = pad_sequences(X_val_text, maxlen=max_seq_length, padding='post')\n",
        "Y_val_text = pad_sequences(Y_val_text, maxlen=max_seq_length, padding='post')\n",
        "\n",
        "# Load the trained model\n",
        "model = load_model('speech_to_speech_translation_model.h5')  # Replace with your model's filename\n",
        "\n",
        "# Evaluate the model on the validation dataset\n",
        "val_loss, val_accuracy = model.evaluate([X_val_audio, X_val_text], Y_val_text, verbose=1)\n",
        "print(\"Validation Loss:\", val_loss)\n",
        "print(\"Validation Accuracy:\", val_accuracy)\n",
        "\n",
        "# Now, you can proceed with inference using the loaded model\n",
        "# ...\n",
        "\n",
        "# For example, to perform inference on a single input:\n",
        "# audio_input = ...  # Load and preprocess a single audio input\n",
        "# text_input = ...   # Tokenize and preprocess the corresponding text input\n",
        "# inference_result = model.predict([audio_input, text_input])\n",
        "# ...\n",
        "\n",
        "# Save the trained model if needed\n",
        "# model.save('speech_to_speech_translation_model.h5')\n"
      ],
      "metadata": {
        "colab": {
          "base_uri": "https://localhost:8080/"
        },
        "id": "1emKnkdY2su-",
        "outputId": "58ba902f-9d5d-46a1-9847-17f2f30791a0"
      },
      "execution_count": null,
      "outputs": [
        {
          "output_type": "stream",
          "name": "stdout",
          "text": [
            "1/1 [==============================] - 2s 2s/step - loss: 0.0000e+00 - accuracy: 0.0000e+00\n",
            "Validation Loss: 0.0\n",
            "Validation Accuracy: 0.0\n"
          ]
        }
      ]
    },
    {
      "cell_type": "markdown",
      "source": [
        "Before moving on to the model phase, let's check the shapes and data to ensure everything is in order."
      ],
      "metadata": {
        "id": "r6ncWcAsunAb"
      }
    },
    {
      "cell_type": "code",
      "source": [
        "# Check the shapes of the preprocessed data\n",
        "print(\"X_audio shape:\", X_audio.shape)\n",
        "print(\"X_text shape:\", X_text.shape)\n",
        "print(\"Y_text shape:\", Y_text.shape)\n",
        "\n",
        "# Check a sample of the preprocessed data\n",
        "print(\"Sample of X_audio:\")\n",
        "print(X_audio[0])  # Print the first sample as an example\n",
        "\n",
        "print(\"Sample of X_text:\")\n",
        "print(X_text[0])  # Print the first sample as an example\n",
        "\n",
        "print(\"Sample of Y_text:\")\n",
        "print(Y_text[0])  # Print the first sample as an example\n"
      ],
      "metadata": {
        "colab": {
          "base_uri": "https://localhost:8080/"
        },
        "id": "JFJ-AZCXugUS",
        "outputId": "187751f8-e6ee-4c5a-8685-4b1b8d54ab44"
      },
      "execution_count": null,
      "outputs": [
        {
          "output_type": "stream",
          "name": "stdout",
          "text": [
            "X_audio shape: (40, 100, 13)\n",
            "X_text shape: (40, 50)\n",
            "Y_text shape: (40, 50)\n",
            "Sample of X_audio:\n",
            "[[-389  118   22 ...   -7    0  -15]\n",
            " [-427   52   -1 ...   -2   -7    3]\n",
            " [-289   47  -33 ...    2    6    8]\n",
            " ...\n",
            " [-589    0    0 ...    0    0    0]\n",
            " [-589    0    0 ...    0    0    0]\n",
            " [-589    0    0 ...    0    0    0]]\n",
            "Sample of X_text:\n",
            "[0 0 0 0 0 0 0 0 0 0 0 0 0 0 0 0 0 0 0 0 0 0 0 0 0 0 0 0 0 0 0 0 0 0 0 0 0\n",
            " 0 0 0 0 0 0 0 0 0 0 0 0 0]\n",
            "Sample of Y_text:\n",
            "[0 0 0 0 0 0 0 0 0 0 0 0 0 0 0 0 0 0 0 0 0 0 0 0 0 0 0 0 0 0 0 0 0 0 0 0 0\n",
            " 0 0 0 0 0 0 0 0 0 0 0 0 0]\n"
          ]
        }
      ]
    },
    {
      "cell_type": "markdown",
      "source": [
        "In data preprocessing, we transformed our bilingual audio-text dataset. We extracted audio features (MFCCs) and tokenized and encoded text, creating a well-structured dataset ready for training our speech translation model."
      ],
      "metadata": {
        "id": "1klZdIEWEaNC"
      }
    },
    {
      "cell_type": "markdown",
      "source": [
        "Model"
      ],
      "metadata": {
        "id": "eU9q0WOzVxP7"
      }
    },
    {
      "cell_type": "code",
      "source": [
        "!pip install --upgrade tensorflow"
      ],
      "metadata": {
        "colab": {
          "base_uri": "https://localhost:8080/"
        },
        "id": "tT2t2xHpCB3v",
        "outputId": "d59e12d2-e203-46c5-ffea-0861390bcd8e"
      },
      "execution_count": null,
      "outputs": [
        {
          "output_type": "stream",
          "name": "stdout",
          "text": [
            "Requirement already satisfied: tensorflow in /usr/local/lib/python3.10/dist-packages (2.13.0)\n",
            "Requirement already satisfied: absl-py>=1.0.0 in /usr/local/lib/python3.10/dist-packages (from tensorflow) (1.4.0)\n",
            "Requirement already satisfied: astunparse>=1.6.0 in /usr/local/lib/python3.10/dist-packages (from tensorflow) (1.6.3)\n",
            "Requirement already satisfied: flatbuffers>=23.1.21 in /usr/local/lib/python3.10/dist-packages (from tensorflow) (23.5.26)\n",
            "Requirement already satisfied: gast<=0.4.0,>=0.2.1 in /usr/local/lib/python3.10/dist-packages (from tensorflow) (0.4.0)\n",
            "Requirement already satisfied: google-pasta>=0.1.1 in /usr/local/lib/python3.10/dist-packages (from tensorflow) (0.2.0)\n",
            "Requirement already satisfied: grpcio<2.0,>=1.24.3 in /usr/local/lib/python3.10/dist-packages (from tensorflow) (1.57.0)\n",
            "Requirement already satisfied: h5py>=2.9.0 in /usr/local/lib/python3.10/dist-packages (from tensorflow) (3.9.0)\n",
            "Requirement already satisfied: keras<2.14,>=2.13.1 in /usr/local/lib/python3.10/dist-packages (from tensorflow) (2.13.1)\n",
            "Requirement already satisfied: libclang>=13.0.0 in /usr/local/lib/python3.10/dist-packages (from tensorflow) (16.0.6)\n",
            "Requirement already satisfied: numpy<=1.24.3,>=1.22 in /usr/local/lib/python3.10/dist-packages (from tensorflow) (1.23.5)\n",
            "Requirement already satisfied: opt-einsum>=2.3.2 in /usr/local/lib/python3.10/dist-packages (from tensorflow) (3.3.0)\n",
            "Requirement already satisfied: packaging in /usr/local/lib/python3.10/dist-packages (from tensorflow) (23.1)\n",
            "Requirement already satisfied: protobuf!=4.21.0,!=4.21.1,!=4.21.2,!=4.21.3,!=4.21.4,!=4.21.5,<5.0.0dev,>=3.20.3 in /usr/local/lib/python3.10/dist-packages (from tensorflow) (3.20.3)\n",
            "Requirement already satisfied: setuptools in /usr/local/lib/python3.10/dist-packages (from tensorflow) (67.7.2)\n",
            "Requirement already satisfied: six>=1.12.0 in /usr/local/lib/python3.10/dist-packages (from tensorflow) (1.16.0)\n",
            "Requirement already satisfied: tensorboard<2.14,>=2.13 in /usr/local/lib/python3.10/dist-packages (from tensorflow) (2.13.0)\n",
            "Requirement already satisfied: tensorflow-estimator<2.14,>=2.13.0 in /usr/local/lib/python3.10/dist-packages (from tensorflow) (2.13.0)\n",
            "Requirement already satisfied: termcolor>=1.1.0 in /usr/local/lib/python3.10/dist-packages (from tensorflow) (2.3.0)\n",
            "Requirement already satisfied: typing-extensions<4.6.0,>=3.6.6 in /usr/local/lib/python3.10/dist-packages (from tensorflow) (4.5.0)\n",
            "Requirement already satisfied: wrapt>=1.11.0 in /usr/local/lib/python3.10/dist-packages (from tensorflow) (1.15.0)\n",
            "Requirement already satisfied: tensorflow-io-gcs-filesystem>=0.23.1 in /usr/local/lib/python3.10/dist-packages (from tensorflow) (0.33.0)\n",
            "Requirement already satisfied: wheel<1.0,>=0.23.0 in /usr/local/lib/python3.10/dist-packages (from astunparse>=1.6.0->tensorflow) (0.41.2)\n",
            "Requirement already satisfied: google-auth<3,>=1.6.3 in /usr/local/lib/python3.10/dist-packages (from tensorboard<2.14,>=2.13->tensorflow) (2.17.3)\n",
            "Requirement already satisfied: google-auth-oauthlib<1.1,>=0.5 in /usr/local/lib/python3.10/dist-packages (from tensorboard<2.14,>=2.13->tensorflow) (1.0.0)\n",
            "Requirement already satisfied: markdown>=2.6.8 in /usr/local/lib/python3.10/dist-packages (from tensorboard<2.14,>=2.13->tensorflow) (3.4.4)\n",
            "Requirement already satisfied: requests<3,>=2.21.0 in /usr/local/lib/python3.10/dist-packages (from tensorboard<2.14,>=2.13->tensorflow) (2.31.0)\n",
            "Requirement already satisfied: tensorboard-data-server<0.8.0,>=0.7.0 in /usr/local/lib/python3.10/dist-packages (from tensorboard<2.14,>=2.13->tensorflow) (0.7.1)\n",
            "Requirement already satisfied: werkzeug>=1.0.1 in /usr/local/lib/python3.10/dist-packages (from tensorboard<2.14,>=2.13->tensorflow) (2.3.7)\n",
            "Requirement already satisfied: cachetools<6.0,>=2.0.0 in /usr/local/lib/python3.10/dist-packages (from google-auth<3,>=1.6.3->tensorboard<2.14,>=2.13->tensorflow) (5.3.1)\n",
            "Requirement already satisfied: pyasn1-modules>=0.2.1 in /usr/local/lib/python3.10/dist-packages (from google-auth<3,>=1.6.3->tensorboard<2.14,>=2.13->tensorflow) (0.3.0)\n",
            "Requirement already satisfied: rsa<5,>=3.1.4 in /usr/local/lib/python3.10/dist-packages (from google-auth<3,>=1.6.3->tensorboard<2.14,>=2.13->tensorflow) (4.9)\n",
            "Requirement already satisfied: requests-oauthlib>=0.7.0 in /usr/local/lib/python3.10/dist-packages (from google-auth-oauthlib<1.1,>=0.5->tensorboard<2.14,>=2.13->tensorflow) (1.3.1)\n",
            "Requirement already satisfied: charset-normalizer<4,>=2 in /usr/local/lib/python3.10/dist-packages (from requests<3,>=2.21.0->tensorboard<2.14,>=2.13->tensorflow) (3.2.0)\n",
            "Requirement already satisfied: idna<4,>=2.5 in /usr/local/lib/python3.10/dist-packages (from requests<3,>=2.21.0->tensorboard<2.14,>=2.13->tensorflow) (3.4)\n",
            "Requirement already satisfied: urllib3<3,>=1.21.1 in /usr/local/lib/python3.10/dist-packages (from requests<3,>=2.21.0->tensorboard<2.14,>=2.13->tensorflow) (2.0.4)\n",
            "Requirement already satisfied: certifi>=2017.4.17 in /usr/local/lib/python3.10/dist-packages (from requests<3,>=2.21.0->tensorboard<2.14,>=2.13->tensorflow) (2023.7.22)\n",
            "Requirement already satisfied: MarkupSafe>=2.1.1 in /usr/local/lib/python3.10/dist-packages (from werkzeug>=1.0.1->tensorboard<2.14,>=2.13->tensorflow) (2.1.3)\n",
            "Requirement already satisfied: pyasn1<0.6.0,>=0.4.6 in /usr/local/lib/python3.10/dist-packages (from pyasn1-modules>=0.2.1->google-auth<3,>=1.6.3->tensorboard<2.14,>=2.13->tensorflow) (0.5.0)\n",
            "Requirement already satisfied: oauthlib>=3.0.0 in /usr/local/lib/python3.10/dist-packages (from requests-oauthlib>=0.7.0->google-auth-oauthlib<1.1,>=0.5->tensorboard<2.14,>=2.13->tensorflow) (3.2.2)\n"
          ]
        }
      ]
    },
    {
      "cell_type": "code",
      "source": [
        "import tensorflow as tf\n",
        "from tensorflow.keras.models import Model\n",
        "from tensorflow.keras.layers import Input, Embedding, LSTM, Dense\n",
        "from tensorflow.keras.utils import to_categorical\n",
        "from tensorflow.keras.preprocessing.sequence import pad_sequences\n",
        "\n",
        "# Define the model architecture\n",
        "latent_dim = 256  # Adjust this value as needed\n",
        "\n",
        "# Define input layers\n",
        "audio_input = Input(shape=(max_audio_length, 13))\n",
        "text_input = Input(shape=(max_seq_length,))\n",
        "\n",
        "# Define embedding layers for text data\n",
        "# Use the same embedding layer for both source and target text\n",
        "embedding_layer = Embedding(input_dim=len(english_tokenizer.word_index) + 1, output_dim=latent_dim)\n",
        "\n",
        "text_embedding = embedding_layer(text_input)\n",
        "\n",
        "# Define the encoder LSTM\n",
        "encoder_lstm = LSTM(latent_dim, return_state=True)\n",
        "encoder_outputs, state_h, state_c = encoder_lstm(audio_input)\n",
        "\n",
        "# Connect encoder and decoder\n",
        "decoder_lstm = LSTM(latent_dim, return_sequences=True, return_state=True)\n",
        "decoder_outputs, _, _ = decoder_lstm(text_embedding, initial_state=[state_h, state_c])\n",
        "\n",
        "# Define the output layer\n",
        "output_layer = Dense(len(korean_tokenizer.word_index) + 1, activation='softmax')\n",
        "output = output_layer(decoder_outputs)\n",
        "\n",
        "# Define the model\n",
        "model = Model([audio_input, text_input], output)\n",
        "\n",
        "# Compile the model\n",
        "model.compile(optimizer='adam', loss='categorical_crossentropy', metrics=['accuracy'])\n",
        "\n",
        "# Print the model summary\n",
        "model.summary()\n",
        "\n",
        "# Prepare target sequences for training\n",
        "Y_train = pad_sequences(Y_text, maxlen=max_seq_length, padding='post')\n",
        "Y_train = to_categorical(Y_train, num_classes=len(korean_tokenizer.word_index) + 1)\n",
        "\n",
        "# Train the model\n",
        "model.fit([X_audio, X_text], Y_train, batch_size=64, epochs=50, validation_split=0.2)\n",
        "\n",
        "# Save the trained model if needed\n",
        "# model.save('speech_to_speech_translation_model.h5')\n"
      ],
      "metadata": {
        "colab": {
          "base_uri": "https://localhost:8080/"
        },
        "id": "DkdkuowTvDeT",
        "outputId": "056f460e-64e4-4227-c543-9e33cf98fe03"
      },
      "execution_count": null,
      "outputs": [
        {
          "output_type": "stream",
          "name": "stdout",
          "text": [
            "Model: \"model_5\"\n",
            "__________________________________________________________________________________________________\n",
            " Layer (type)                Output Shape                 Param #   Connected to                  \n",
            "==================================================================================================\n",
            " input_12 (InputLayer)       [(None, 50)]                 0         []                            \n",
            "                                                                                                  \n",
            " input_11 (InputLayer)       [(None, 100, 13)]            0         []                            \n",
            "                                                                                                  \n",
            " embedding_7 (Embedding)     (None, 50, 256)              256       ['input_12[0][0]']            \n",
            "                                                                                                  \n",
            " lstm_10 (LSTM)              [(None, 256),                276480    ['input_11[0][0]']            \n",
            "                              (None, 256),                                                        \n",
            "                              (None, 256)]                                                        \n",
            "                                                                                                  \n",
            " lstm_11 (LSTM)              [(None, 50, 256),            525312    ['embedding_7[0][0]',         \n",
            "                              (None, 256),                           'lstm_10[0][1]',             \n",
            "                              (None, 256)]                           'lstm_10[0][2]']             \n",
            "                                                                                                  \n",
            " dense_5 (Dense)             (None, 50, 1)                257       ['lstm_11[0][0]']             \n",
            "                                                                                                  \n",
            "==================================================================================================\n",
            "Total params: 802305 (3.06 MB)\n",
            "Trainable params: 802305 (3.06 MB)\n",
            "Non-trainable params: 0 (0.00 Byte)\n",
            "__________________________________________________________________________________________________\n",
            "Epoch 1/50\n",
            "1/1 [==============================] - 8s 8s/step - loss: 0.0000e+00 - accuracy: 1.0000 - val_loss: 0.0000e+00 - val_accuracy: 1.0000\n",
            "Epoch 2/50\n",
            "1/1 [==============================] - 1s 588ms/step - loss: 0.0000e+00 - accuracy: 1.0000 - val_loss: 0.0000e+00 - val_accuracy: 1.0000\n",
            "Epoch 3/50\n",
            "1/1 [==============================] - 1s 699ms/step - loss: 0.0000e+00 - accuracy: 1.0000 - val_loss: 0.0000e+00 - val_accuracy: 1.0000\n",
            "Epoch 4/50\n",
            "1/1 [==============================] - 1s 679ms/step - loss: 0.0000e+00 - accuracy: 1.0000 - val_loss: 0.0000e+00 - val_accuracy: 1.0000\n",
            "Epoch 5/50\n",
            "1/1 [==============================] - 1s 584ms/step - loss: 0.0000e+00 - accuracy: 1.0000 - val_loss: 0.0000e+00 - val_accuracy: 1.0000\n",
            "Epoch 6/50\n",
            "1/1 [==============================] - 1s 911ms/step - loss: 0.0000e+00 - accuracy: 1.0000 - val_loss: 0.0000e+00 - val_accuracy: 1.0000\n",
            "Epoch 7/50\n",
            "1/1 [==============================] - 1s 851ms/step - loss: 0.0000e+00 - accuracy: 1.0000 - val_loss: 0.0000e+00 - val_accuracy: 1.0000\n",
            "Epoch 8/50\n",
            "1/1 [==============================] - 1s 639ms/step - loss: 0.0000e+00 - accuracy: 1.0000 - val_loss: 0.0000e+00 - val_accuracy: 1.0000\n",
            "Epoch 9/50\n",
            "1/1 [==============================] - 1s 831ms/step - loss: 0.0000e+00 - accuracy: 1.0000 - val_loss: 0.0000e+00 - val_accuracy: 1.0000\n",
            "Epoch 10/50\n",
            "1/1 [==============================] - 1s 873ms/step - loss: 0.0000e+00 - accuracy: 1.0000 - val_loss: 0.0000e+00 - val_accuracy: 1.0000\n",
            "Epoch 11/50\n",
            "1/1 [==============================] - 1s 947ms/step - loss: 0.0000e+00 - accuracy: 1.0000 - val_loss: 0.0000e+00 - val_accuracy: 1.0000\n",
            "Epoch 12/50\n",
            "1/1 [==============================] - 1s 953ms/step - loss: 0.0000e+00 - accuracy: 1.0000 - val_loss: 0.0000e+00 - val_accuracy: 1.0000\n",
            "Epoch 13/50\n",
            "1/1 [==============================] - 1s 806ms/step - loss: 0.0000e+00 - accuracy: 1.0000 - val_loss: 0.0000e+00 - val_accuracy: 1.0000\n",
            "Epoch 14/50\n",
            "1/1 [==============================] - 1s 657ms/step - loss: 0.0000e+00 - accuracy: 1.0000 - val_loss: 0.0000e+00 - val_accuracy: 1.0000\n",
            "Epoch 15/50\n",
            "1/1 [==============================] - 1s 578ms/step - loss: 0.0000e+00 - accuracy: 1.0000 - val_loss: 0.0000e+00 - val_accuracy: 1.0000\n",
            "Epoch 16/50\n",
            "1/1 [==============================] - 1s 645ms/step - loss: 0.0000e+00 - accuracy: 1.0000 - val_loss: 0.0000e+00 - val_accuracy: 1.0000\n",
            "Epoch 17/50\n",
            "1/1 [==============================] - 1s 585ms/step - loss: 0.0000e+00 - accuracy: 1.0000 - val_loss: 0.0000e+00 - val_accuracy: 1.0000\n",
            "Epoch 18/50\n",
            "1/1 [==============================] - 1s 659ms/step - loss: 0.0000e+00 - accuracy: 1.0000 - val_loss: 0.0000e+00 - val_accuracy: 1.0000\n",
            "Epoch 19/50\n",
            "1/1 [==============================] - 1s 594ms/step - loss: 0.0000e+00 - accuracy: 1.0000 - val_loss: 0.0000e+00 - val_accuracy: 1.0000\n",
            "Epoch 20/50\n",
            "1/1 [==============================] - 1s 681ms/step - loss: 0.0000e+00 - accuracy: 1.0000 - val_loss: 0.0000e+00 - val_accuracy: 1.0000\n",
            "Epoch 21/50\n",
            "1/1 [==============================] - 1s 663ms/step - loss: 0.0000e+00 - accuracy: 1.0000 - val_loss: 0.0000e+00 - val_accuracy: 1.0000\n",
            "Epoch 22/50\n",
            "1/1 [==============================] - 1s 672ms/step - loss: 0.0000e+00 - accuracy: 1.0000 - val_loss: 0.0000e+00 - val_accuracy: 1.0000\n",
            "Epoch 23/50\n",
            "1/1 [==============================] - 1s 599ms/step - loss: 0.0000e+00 - accuracy: 1.0000 - val_loss: 0.0000e+00 - val_accuracy: 1.0000\n",
            "Epoch 24/50\n",
            "1/1 [==============================] - 1s 686ms/step - loss: 0.0000e+00 - accuracy: 1.0000 - val_loss: 0.0000e+00 - val_accuracy: 1.0000\n",
            "Epoch 25/50\n",
            "1/1 [==============================] - 1s 679ms/step - loss: 0.0000e+00 - accuracy: 1.0000 - val_loss: 0.0000e+00 - val_accuracy: 1.0000\n",
            "Epoch 26/50\n",
            "1/1 [==============================] - 1s 593ms/step - loss: 0.0000e+00 - accuracy: 1.0000 - val_loss: 0.0000e+00 - val_accuracy: 1.0000\n",
            "Epoch 27/50\n",
            "1/1 [==============================] - 1s 600ms/step - loss: 0.0000e+00 - accuracy: 1.0000 - val_loss: 0.0000e+00 - val_accuracy: 1.0000\n",
            "Epoch 28/50\n",
            "1/1 [==============================] - 1s 579ms/step - loss: 0.0000e+00 - accuracy: 1.0000 - val_loss: 0.0000e+00 - val_accuracy: 1.0000\n",
            "Epoch 29/50\n",
            "1/1 [==============================] - 1s 1s/step - loss: 0.0000e+00 - accuracy: 1.0000 - val_loss: 0.0000e+00 - val_accuracy: 1.0000\n",
            "Epoch 30/50\n",
            "1/1 [==============================] - 1s 931ms/step - loss: 0.0000e+00 - accuracy: 1.0000 - val_loss: 0.0000e+00 - val_accuracy: 1.0000\n",
            "Epoch 31/50\n",
            "1/1 [==============================] - 1s 964ms/step - loss: 0.0000e+00 - accuracy: 1.0000 - val_loss: 0.0000e+00 - val_accuracy: 1.0000\n",
            "Epoch 32/50\n",
            "1/1 [==============================] - 1s 722ms/step - loss: 0.0000e+00 - accuracy: 1.0000 - val_loss: 0.0000e+00 - val_accuracy: 1.0000\n",
            "Epoch 33/50\n",
            "1/1 [==============================] - 1s 651ms/step - loss: 0.0000e+00 - accuracy: 1.0000 - val_loss: 0.0000e+00 - val_accuracy: 1.0000\n",
            "Epoch 34/50\n",
            "1/1 [==============================] - 1s 602ms/step - loss: 0.0000e+00 - accuracy: 1.0000 - val_loss: 0.0000e+00 - val_accuracy: 1.0000\n",
            "Epoch 35/50\n",
            "1/1 [==============================] - 1s 687ms/step - loss: 0.0000e+00 - accuracy: 1.0000 - val_loss: 0.0000e+00 - val_accuracy: 1.0000\n",
            "Epoch 36/50\n",
            "1/1 [==============================] - 1s 642ms/step - loss: 0.0000e+00 - accuracy: 1.0000 - val_loss: 0.0000e+00 - val_accuracy: 1.0000\n",
            "Epoch 37/50\n",
            "1/1 [==============================] - 1s 655ms/step - loss: 0.0000e+00 - accuracy: 1.0000 - val_loss: 0.0000e+00 - val_accuracy: 1.0000\n",
            "Epoch 38/50\n",
            "1/1 [==============================] - 1s 571ms/step - loss: 0.0000e+00 - accuracy: 1.0000 - val_loss: 0.0000e+00 - val_accuracy: 1.0000\n",
            "Epoch 39/50\n",
            "1/1 [==============================] - 1s 584ms/step - loss: 0.0000e+00 - accuracy: 1.0000 - val_loss: 0.0000e+00 - val_accuracy: 1.0000\n",
            "Epoch 40/50\n",
            "1/1 [==============================] - 1s 670ms/step - loss: 0.0000e+00 - accuracy: 1.0000 - val_loss: 0.0000e+00 - val_accuracy: 1.0000\n",
            "Epoch 41/50\n",
            "1/1 [==============================] - 1s 601ms/step - loss: 0.0000e+00 - accuracy: 1.0000 - val_loss: 0.0000e+00 - val_accuracy: 1.0000\n",
            "Epoch 42/50\n",
            "1/1 [==============================] - 1s 630ms/step - loss: 0.0000e+00 - accuracy: 1.0000 - val_loss: 0.0000e+00 - val_accuracy: 1.0000\n",
            "Epoch 43/50\n",
            "1/1 [==============================] - 1s 585ms/step - loss: 0.0000e+00 - accuracy: 1.0000 - val_loss: 0.0000e+00 - val_accuracy: 1.0000\n",
            "Epoch 44/50\n",
            "1/1 [==============================] - 1s 593ms/step - loss: 0.0000e+00 - accuracy: 1.0000 - val_loss: 0.0000e+00 - val_accuracy: 1.0000\n",
            "Epoch 45/50\n",
            "1/1 [==============================] - 1s 663ms/step - loss: 0.0000e+00 - accuracy: 1.0000 - val_loss: 0.0000e+00 - val_accuracy: 1.0000\n",
            "Epoch 46/50\n",
            "1/1 [==============================] - 1s 649ms/step - loss: 0.0000e+00 - accuracy: 1.0000 - val_loss: 0.0000e+00 - val_accuracy: 1.0000\n",
            "Epoch 47/50\n",
            "1/1 [==============================] - 1s 640ms/step - loss: 0.0000e+00 - accuracy: 1.0000 - val_loss: 0.0000e+00 - val_accuracy: 1.0000\n",
            "Epoch 48/50\n",
            "1/1 [==============================] - 1s 942ms/step - loss: 0.0000e+00 - accuracy: 1.0000 - val_loss: 0.0000e+00 - val_accuracy: 1.0000\n",
            "Epoch 49/50\n",
            "1/1 [==============================] - 1s 976ms/step - loss: 0.0000e+00 - accuracy: 1.0000 - val_loss: 0.0000e+00 - val_accuracy: 1.0000\n",
            "Epoch 50/50\n",
            "1/1 [==============================] - 1s 935ms/step - loss: 0.0000e+00 - accuracy: 1.0000 - val_loss: 0.0000e+00 - val_accuracy: 1.0000\n"
          ]
        },
        {
          "output_type": "execute_result",
          "data": {
            "text/plain": [
              "<keras.src.callbacks.History at 0x7bfa44700430>"
            ]
          },
          "metadata": {},
          "execution_count": 46
        }
      ]
    },
    {
      "cell_type": "code",
      "source": [
        "# Save the trained model in the native Keras format\n",
        "model.save('speech_to_speech_translation_model.keras')\n"
      ],
      "metadata": {
        "id": "pkVuB2vp1acv"
      },
      "execution_count": null,
      "outputs": []
    },
    {
      "cell_type": "code",
      "source": [
        "from tensorflow import keras\n",
        "\n",
        "# Load the saved model\n",
        "model = keras.models.load_model('speech_to_speech_translation_model.keras')\n"
      ],
      "metadata": {
        "id": "CjE4n7r1002y"
      },
      "execution_count": null,
      "outputs": []
    },
    {
      "cell_type": "code",
      "source": [
        "print(\"X_audio shape:\", X_audio.shape)\n",
        "print(\"X_text shape:\", X_text.shape)\n",
        "print(\"Y_val shape:\", Y_val.shape)\n"
      ],
      "metadata": {
        "colab": {
          "base_uri": "https://localhost:8080/"
        },
        "id": "n3Q1ltT6xIYL",
        "outputId": "566994fc-37db-41c5-faa3-6475714999e0"
      },
      "execution_count": null,
      "outputs": [
        {
          "output_type": "stream",
          "name": "stdout",
          "text": [
            "X_audio shape: (50, 100, 13)\n",
            "X_text shape: (50, 50)\n",
            "Y_val shape: (5, 50, 125, 125)\n"
          ]
        }
      ]
    },
    {
      "cell_type": "markdown",
      "source": [
        "Evaluate the model on the validation data\n"
      ],
      "metadata": {
        "id": "XWp1Lm-QwJfz"
      }
    },
    {
      "cell_type": "code",
      "source": [
        "# Evaluate the model on the validation data\n",
        "metrics = model.evaluate([X_audio, X_text], Y_val)\n",
        "\n",
        "# Extract and print relevant metrics\n",
        "loss = metrics[0]\n",
        "accuracy = metrics[1]\n",
        "\n",
        "print(\"Validation Loss:\", loss)\n",
        "print(\"Validation Accuracy:\", accuracy)\n"
      ],
      "metadata": {
        "colab": {
          "base_uri": "https://localhost:8080/",
          "height": 563
        },
        "id": "B63hnci7wJwi",
        "outputId": "ba3620fc-f8af-4c7a-db2a-e961ef5c4767"
      },
      "execution_count": null,
      "outputs": [
        {
          "output_type": "error",
          "ename": "ValueError",
          "evalue": "ignored",
          "traceback": [
            "\u001b[0;31m---------------------------------------------------------------------------\u001b[0m",
            "\u001b[0;31mValueError\u001b[0m                                Traceback (most recent call last)",
            "\u001b[0;32m<ipython-input-38-8378ef5bb7cb>\u001b[0m in \u001b[0;36m<cell line: 2>\u001b[0;34m()\u001b[0m\n\u001b[1;32m      1\u001b[0m \u001b[0;31m# Evaluate the model on the validation data\u001b[0m\u001b[0;34m\u001b[0m\u001b[0;34m\u001b[0m\u001b[0m\n\u001b[0;32m----> 2\u001b[0;31m \u001b[0mmetrics\u001b[0m \u001b[0;34m=\u001b[0m \u001b[0mmodel\u001b[0m\u001b[0;34m.\u001b[0m\u001b[0mevaluate\u001b[0m\u001b[0;34m(\u001b[0m\u001b[0;34m[\u001b[0m\u001b[0mX_audio\u001b[0m\u001b[0;34m,\u001b[0m \u001b[0mX_text\u001b[0m\u001b[0;34m]\u001b[0m\u001b[0;34m,\u001b[0m \u001b[0mY_val\u001b[0m\u001b[0;34m)\u001b[0m\u001b[0;34m\u001b[0m\u001b[0;34m\u001b[0m\u001b[0m\n\u001b[0m\u001b[1;32m      3\u001b[0m \u001b[0;34m\u001b[0m\u001b[0m\n\u001b[1;32m      4\u001b[0m \u001b[0;31m# Extract and print relevant metrics\u001b[0m\u001b[0;34m\u001b[0m\u001b[0;34m\u001b[0m\u001b[0m\n\u001b[1;32m      5\u001b[0m \u001b[0mloss\u001b[0m \u001b[0;34m=\u001b[0m \u001b[0mmetrics\u001b[0m\u001b[0;34m[\u001b[0m\u001b[0;36m0\u001b[0m\u001b[0;34m]\u001b[0m\u001b[0;34m\u001b[0m\u001b[0;34m\u001b[0m\u001b[0m\n",
            "\u001b[0;32m/usr/local/lib/python3.10/dist-packages/keras/src/utils/traceback_utils.py\u001b[0m in \u001b[0;36merror_handler\u001b[0;34m(*args, **kwargs)\u001b[0m\n\u001b[1;32m     68\u001b[0m             \u001b[0;31m# To get the full stack trace, call:\u001b[0m\u001b[0;34m\u001b[0m\u001b[0;34m\u001b[0m\u001b[0m\n\u001b[1;32m     69\u001b[0m             \u001b[0;31m# `tf.debugging.disable_traceback_filtering()`\u001b[0m\u001b[0;34m\u001b[0m\u001b[0;34m\u001b[0m\u001b[0m\n\u001b[0;32m---> 70\u001b[0;31m             \u001b[0;32mraise\u001b[0m \u001b[0me\u001b[0m\u001b[0;34m.\u001b[0m\u001b[0mwith_traceback\u001b[0m\u001b[0;34m(\u001b[0m\u001b[0mfiltered_tb\u001b[0m\u001b[0;34m)\u001b[0m \u001b[0;32mfrom\u001b[0m \u001b[0;32mNone\u001b[0m\u001b[0;34m\u001b[0m\u001b[0;34m\u001b[0m\u001b[0m\n\u001b[0m\u001b[1;32m     71\u001b[0m         \u001b[0;32mfinally\u001b[0m\u001b[0;34m:\u001b[0m\u001b[0;34m\u001b[0m\u001b[0;34m\u001b[0m\u001b[0m\n\u001b[1;32m     72\u001b[0m             \u001b[0;32mdel\u001b[0m \u001b[0mfiltered_tb\u001b[0m\u001b[0;34m\u001b[0m\u001b[0;34m\u001b[0m\u001b[0m\n",
            "\u001b[0;32m/usr/local/lib/python3.10/dist-packages/keras/src/engine/data_adapter.py\u001b[0m in \u001b[0;36m_check_data_cardinality\u001b[0;34m(data)\u001b[0m\n\u001b[1;32m   1948\u001b[0m             )\n\u001b[1;32m   1949\u001b[0m         \u001b[0mmsg\u001b[0m \u001b[0;34m+=\u001b[0m \u001b[0;34m\"Make sure all arrays contain the same number of samples.\"\u001b[0m\u001b[0;34m\u001b[0m\u001b[0;34m\u001b[0m\u001b[0m\n\u001b[0;32m-> 1950\u001b[0;31m         \u001b[0;32mraise\u001b[0m \u001b[0mValueError\u001b[0m\u001b[0;34m(\u001b[0m\u001b[0mmsg\u001b[0m\u001b[0;34m)\u001b[0m\u001b[0;34m\u001b[0m\u001b[0;34m\u001b[0m\u001b[0m\n\u001b[0m\u001b[1;32m   1951\u001b[0m \u001b[0;34m\u001b[0m\u001b[0m\n\u001b[1;32m   1952\u001b[0m \u001b[0;34m\u001b[0m\u001b[0m\n",
            "\u001b[0;31mValueError\u001b[0m: Data cardinality is ambiguous:\n  x sizes: 50, 50\n  y sizes: 5\nMake sure all arrays contain the same number of samples."
          ]
        }
      ]
    }
  ]
}